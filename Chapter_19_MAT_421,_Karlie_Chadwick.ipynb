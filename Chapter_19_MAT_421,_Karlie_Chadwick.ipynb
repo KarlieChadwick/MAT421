{
  "nbformat": 4,
  "nbformat_minor": 0,
  "metadata": {
    "colab": {
      "provenance": [],
      "authorship_tag": "ABX9TyPFfzUyawLoBzpOKRL3MUsN",
      "include_colab_link": true
    },
    "kernelspec": {
      "name": "python3",
      "display_name": "Python 3"
    },
    "language_info": {
      "name": "python"
    }
  },
  "cells": [
    {
      "cell_type": "markdown",
      "metadata": {
        "id": "view-in-github",
        "colab_type": "text"
      },
      "source": [
        "<a href=\"https://colab.research.google.com/github/KarlieChadwick/MAT421/blob/Chapter-9/Chapter_19_MAT_421%2C_Karlie_Chadwick.ipynb\" target=\"_parent\"><img src=\"https://colab.research.google.com/assets/colab-badge.svg\" alt=\"Open In Colab\"/></a>"
      ]
    },
    {
      "cell_type": "markdown",
      "source": [
        "#Chapter 19"
      ],
      "metadata": {
        "id": "pR3bQySUr7jE"
      }
    },
    {
      "cell_type": "markdown",
      "source": [
        "Karlie Chadwick"
      ],
      "metadata": {
        "id": "S8IdVX0-sE2v"
      }
    },
    {
      "cell_type": "markdown",
      "source": [
        "**19.1: Root Finding Problem Statement**"
      ],
      "metadata": {
        "id": "D2nHvSK-sGHU"
      }
    },
    {
      "cell_type": "markdown",
      "source": [
        "Roots can be found in simple polynomial functions using the quadratic equation: $x = \\frac{-b ± \\sqrt{b^2 - 4ac}}{2a}$ given the polynomial $f(x) = ax^2+bx+c$\n",
        "\n",
        "For example, $x^2-4$ can be plugged into the quadratic equation: $x = \\frac{-(0) ± \\sqrt{(0)^2-4(1)(-4)}}{2(1)} = ±2$"
      ],
      "metadata": {
        "id": "qZe-0cCyspsm"
      }
    },
    {
      "cell_type": "markdown",
      "source": [
        "Python functions can be helpful to employ when dealing with more complicated functions like $f(x)=cos(x)-x$ or functions with undefined roots like $f(x) = \\frac{1}{x}$"
      ],
      "metadata": {
        "id": "_rowu8EbtzYF"
      }
    },
    {
      "cell_type": "markdown",
      "source": [
        "*1) Find the root of $f(x) = x^2 - 4$ near the value -2*"
      ],
      "metadata": {
        "id": "xtux7eS3PKkp"
      }
    },
    {
      "cell_type": "code",
      "source": [
        "import numpy as np\n",
        "from scipy import optimize\n",
        "\n",
        "# After importing the optimize and np functions, the equation is\n",
        "# inputed and the function 'optimize' is used to find the root of\n",
        "# the given equation near a given number; in this case -2.\n",
        "\n",
        "f = lambda x: x**2 - 4\n",
        "r = optimize.fsolve(f, -2)\n",
        "print(\"r =\", r)\n",
        "\n",
        "# After the root is found, it is plugged back into the equation to\n",
        "# verify the number is acutally a root. The results will print out\n",
        "# zero if it is a root. \n",
        "\n",
        "result = f(r)\n",
        "print(\"result=\", result)"
      ],
      "metadata": {
        "colab": {
          "base_uri": "https://localhost:8080/"
        },
        "id": "NxtK7-_wz-VI",
        "outputId": "d89b4433-9217-4b70-8df2-e75d6672726b"
      },
      "execution_count": null,
      "outputs": [
        {
          "output_type": "stream",
          "name": "stdout",
          "text": [
            "r = [-2.]\n",
            "result= [0.]\n"
          ]
        }
      ]
    },
    {
      "cell_type": "markdown",
      "source": [
        "*2) Find the root of $f(x) = cos(x) - x$ near the value -4*"
      ],
      "metadata": {
        "id": "GWrsUzDuPY4K"
      }
    },
    {
      "cell_type": "code",
      "execution_count": null,
      "metadata": {
        "colab": {
          "base_uri": "https://localhost:8080/"
        },
        "id": "sq053op1ryl2",
        "outputId": "300f5e6f-18c1-4079-d7e4-c9a9225a65a2"
      },
      "outputs": [
        {
          "output_type": "stream",
          "name": "stdout",
          "text": [
            "r = [0.73908513]\n",
            "result= [0.]\n"
          ]
        }
      ],
      "source": [
        "import numpy as np\n",
        "from scipy import optimize\n",
        "\n",
        "f = lambda x: np.cos(x) - x\n",
        "r = optimize.fsolve(f, -4)\n",
        "print(\"r =\", r)\n",
        "\n",
        "result = f(r)\n",
        "print(\"result=\", result)"
      ]
    },
    {
      "cell_type": "markdown",
      "source": [
        "*3) Find the root of $f(x) = \\frac{1}{x}$ near the value -1*"
      ],
      "metadata": {
        "id": "gG4Q8jf0PgQw"
      }
    },
    {
      "cell_type": "code",
      "source": [
        "import numpy as np\n",
        "from scipy import optimize\n",
        "\n",
        "f = lambda x: 1/x\n",
        "r = optimize.fsolve(f, -1)\n",
        "print(\"r =\", r)\n",
        "\n",
        "result = f(r)\n",
        "print(\"result=\", result)"
      ],
      "metadata": {
        "colab": {
          "base_uri": "https://localhost:8080/"
        },
        "id": "8f-h5KS_06-g",
        "outputId": "92a89c0b-1c7c-48a2-cc5f-c33ff09b7511"
      },
      "execution_count": null,
      "outputs": [
        {
          "output_type": "stream",
          "name": "stdout",
          "text": [
            "r = [-1.7602368e+83]\n",
            "result= [-5.68105383e-84]\n"
          ]
        }
      ]
    },
    {
      "cell_type": "markdown",
      "source": [
        "In the above code the equation was $f(x)=\\frac{1}{x}$ and the result from inputing the root is not 0. This means the root found is not really a root! If we turn on full_output, we can see what went wrong."
      ],
      "metadata": {
        "id": "1sOX5jOb1ZTK"
      }
    },
    {
      "cell_type": "code",
      "source": [
        "import numpy as np\n",
        "from scipy import optimize\n",
        "\n",
        "f = lambda x: 1/x\n",
        "\n",
        "# full_output was set equal to True and the mesg was printed below\n",
        "# to determine the error when calculating this equations root\n",
        "\n",
        "r, infodict, ier, mesg = optimize.fsolve(f, -2, full_output=True)\n",
        "print(\"r =\", r)\n",
        "\n",
        "result = f(r)\n",
        "print(\"result=\", result)\n",
        "\n",
        "print(mesg)"
      ],
      "metadata": {
        "colab": {
          "base_uri": "https://localhost:8080/"
        },
        "id": "NfFLNsFn0z_1",
        "outputId": "d3b8cdfa-5b8a-49cc-e762-95d9bd071486"
      },
      "execution_count": null,
      "outputs": [
        {
          "output_type": "stream",
          "name": "stdout",
          "text": [
            "r = [-3.52047359e+83]\n",
            "result= [-2.84052692e-84]\n",
            "The number of calls to function has reached maxfev = 400.\n"
          ]
        }
      ]
    },
    {
      "cell_type": "markdown",
      "source": [
        "After the displayed message we know now that the equation has no root solutions. The function was evaluated 400 times to find a root and no solution was able to be found."
      ],
      "metadata": {
        "id": "JnjFq1ur2qwr"
      }
    },
    {
      "cell_type": "markdown",
      "source": [
        "\n",
        "---"
      ],
      "metadata": {
        "id": "QvBKvObh3Q58"
      }
    },
    {
      "cell_type": "markdown",
      "source": [
        "**19.2: Tolerance**"
      ],
      "metadata": {
        "id": "gRzKZWS_2-Ef"
      }
    },
    {
      "cell_type": "markdown",
      "source": [
        "Error can be defined as the deviation from the expected value and mostly seen in engineering and science problems. Tolerance is how much variation/error is acceptable in a solution. Tolerance can vary based on the application; if a small variation in the answer could be detrimental, the tolerance is likely very low. A converged solution is a computers solution that has an error smaller than the given tolerance.\n",
        "\n",
        "In order to determine a tolerance, two main equations can be used:\n",
        "\n",
        "* $error = |f(x)|$\n",
        "* $error = |x_{i+1}-x_i|$\n",
        "\n",
        "Both have advantages and disadvantages and should be employed based on the context of the problem. "
      ],
      "metadata": {
        "id": "7yEIWNX43t6h"
      }
    },
    {
      "cell_type": "markdown",
      "source": [
        "\n",
        "---"
      ],
      "metadata": {
        "id": "WCeAkDdr3S6n"
      }
    },
    {
      "cell_type": "markdown",
      "source": [
        "**19.3: Bisection Method**"
      ],
      "metadata": {
        "id": "iP7Nf3Jr3C2x"
      }
    },
    {
      "cell_type": "markdown",
      "source": [
        "The bisection method of finding roots uses the intermediate value theorem that states if the function f(x) is continuous between two points that cross the x axis, there must be a point that lies within the line where f(x) = 0.\n",
        "\n",
        "In order to compute this value automatically the midpoint is found between the two points. If the midpoint is greater than zero, the midpoint between the first midpoint and right boundary is found to get closer to f(x) = 0 and vice versa if it is less than zero. This iteration continues until the root is found. "
      ],
      "metadata": {
        "id": "0eFC3cntY5-d"
      }
    },
    {
      "cell_type": "markdown",
      "source": [
        "*1) Create a function my_bisection that can find the root of an equation with given boundaries and tolerance.*"
      ],
      "metadata": {
        "id": "Eyl1wcTYObVT"
      }
    },
    {
      "cell_type": "code",
      "source": [
        "import numpy as np\n",
        "\n",
        "# After importing the np function, a new function my_bisection\n",
        "# is created with 4 inputs: f is the given function, a is the\n",
        "# lower bound, b is the upper bound, and tol is the tolerance\n",
        "# the root is allowed to be within.\n",
        "\n",
        "def my_bisection(f, a, b, tol): \n",
        "    \n",
        "    # This if statement will determine if the two boundaries\n",
        "    # are able to find a root (in this case the function must\n",
        "    # cross the x axis)\n",
        "    if np.sign(f(a)) == np.sign(f(b)):\n",
        "        raise Exception(\"The scalars a and b do not bound a root\")\n",
        "        \n",
        "    # if the boundaries are within the parameters, the midpoint\n",
        "    # is found.\n",
        "    m = (a + b)/2\n",
        "    \n",
        "    # After the initial midpoint is found if the root is within\n",
        "    # the tolerance, the root is returned.\n",
        "    if np.abs(f(m)) < tol:\n",
        "        return m\n",
        "\n",
        "    # If the initial midpoint is an improvement on the a boundary\n",
        "    # the midpoint is refound between the new boundaries until the\n",
        "    # root is found\n",
        "    elif np.sign(f(a)) == np.sign(f(m)):\n",
        "        return my_bisection(f, m, b, tol)\n",
        "\n",
        "    # If the initial midpoint is an improvement on the b boundary\n",
        "    # the midpoint is refound between the new boundaries until the\n",
        "    # root is found\n",
        "    elif np.sign(f(b)) == np.sign(f(m)):\n",
        "        return my_bisection(f, a, m, tol)"
      ],
      "metadata": {
        "id": "7UPpSUAKfQkt"
      },
      "execution_count": 3,
      "outputs": []
    },
    {
      "cell_type": "markdown",
      "source": [
        "*2) Employ my_bisection to find the root of $f(x) = x^3 - 2$ between -5 and 5 with a tolerance of 0.1 and 0.01.*"
      ],
      "metadata": {
        "id": "SdywyoGDOnjx"
      }
    },
    {
      "cell_type": "code",
      "source": [
        "import matplotlib.pyplot as plt\n",
        "import numpy as np\n",
        "\n",
        "# I imported a plt function to graph the given equation to visualize\n",
        "# where the root is and how the bisection method works. \n",
        "\n",
        "x = np.linspace(-5,5,100)\n",
        "\n",
        "y = x**3 - 2\n",
        "\n",
        "fig = plt.figure()\n",
        "plt.grid()\n",
        "plt.xlabel('x')\n",
        "plt.ylabel('y')\n",
        "plt.plot(x,y,'g')\n",
        "plt.show()\n",
        "\n",
        "# After graphing the equation, the function f is defined to input into\n",
        "# my_bisection. Then the function is employed with two differing\n",
        "# tolerances to see how the answer changes. After the roots are returned\n",
        "# the function with the inputed root is also printed to see how close \n",
        "# to zero the answer is!\n",
        "\n",
        "f = lambda x: x**3 - 2\n",
        "\n",
        "root1 = my_bisection(f, -5, 5, 0.1)\n",
        "print(\"The root with a tolerance of 0.1 is\", root1)\n",
        "root01 = my_bisection(f, -5, 5, 0.01)\n",
        "print(\"The root with a tolerance of 0.01 is\", root01)\n",
        "\n",
        "print(\"f(root1) =\", f(root1))\n",
        "print(\"f(root01) =\", f(root01))"
      ],
      "metadata": {
        "colab": {
          "base_uri": "https://localhost:8080/",
          "height": 347
        },
        "id": "HLxisrMZg-Jo",
        "outputId": "6b3e9ebf-9035-42f2-d1c7-9a9337329503"
      },
      "execution_count": 31,
      "outputs": [
        {
          "output_type": "display_data",
          "data": {
            "text/plain": [
              "<Figure size 432x288 with 1 Axes>"
            ],
            "image/png": "[encoded data removed]"
          },
          "metadata": {
            "needs_background": "light"
          }
        },
        {
          "output_type": "stream",
          "name": "stdout",
          "text": [
            "The root with a tolerance of 0.1 is 1.25\n",
            "The root with a tolerance of 0.01 is 1.259765625\n",
            "f(root1) = -0.046875\n",
            "f(root01) = -0.0007400736212730408\n"
          ]
        }
      ]
    },
    {
      "cell_type": "markdown",
      "source": [
        "*3) Employ my_bisection to find the root of $f(x) = x^5 - 4x + 1$ between -3 and 3 with a tolerance of 0.1 and 0.001.*"
      ],
      "metadata": {
        "id": "BMbmq60aO3oo"
      }
    },
    {
      "cell_type": "code",
      "source": [
        "import matplotlib.pyplot as plt\n",
        "import numpy as np\n",
        "\n",
        "x = np.linspace(-5,5,100)\n",
        "\n",
        "y = x**5 - 4*x + 1\n",
        "\n",
        "fig = plt.figure()\n",
        "plt.grid()\n",
        "plt.xlabel('x')\n",
        "plt.ylabel('y')\n",
        "plt.plot(x,y,'g')\n",
        "plt.show()\n",
        "\n",
        "f = lambda x: x**5 - 4*x + 1\n",
        "\n",
        "root1 = my_bisection(f, -3, 3, 0.1)\n",
        "print(\"The root with a tolerance of 0.1 is\", root1)\n",
        "root001 = my_bisection(f, -3, 3, 0.001)\n",
        "print(\"The root with a tolerance of 0.001 is\", root001)\n",
        "\n",
        "print(\"f(root1) =\", f(root1))\n",
        "print(\"f(root001) =\", f(root001))"
      ],
      "metadata": {
        "colab": {
          "base_uri": "https://localhost:8080/",
          "height": 347
        },
        "id": "3qnuskkymmm4",
        "outputId": "6a9629f0-3aad-4ea6-89d5-4969a524adfb"
      },
      "execution_count": 32,
      "outputs": [
        {
          "output_type": "display_data",
          "data": {
            "text/plain": [
              "<Figure size 432x288 with 1 Axes>"
            ],
            "image/png": "[encoded data removed]"
          },
          "metadata": {
            "needs_background": "light"
          }
        },
        {
          "output_type": "stream",
          "name": "stdout",
          "text": [
            "The root with a tolerance of 0.1 is -1.470703125\n",
            "The root with a tolerance of 0.001 is -1.470794677734375\n",
            "f(root1) = 0.0022320659431613876\n",
            "f(root001) = 0.00045639530279917295\n"
          ]
        }
      ]
    },
    {
      "cell_type": "markdown",
      "source": [
        "*4) Employ my_bisection to find the root of $f(x) = x^2 - 5$ between -1 and 3 with a tolerance of 0.1 and 0.001.*"
      ],
      "metadata": {
        "id": "hXeSzjmvO-a3"
      }
    },
    {
      "cell_type": "code",
      "source": [
        "import matplotlib.pyplot as plt\n",
        "import numpy as np\n",
        "\n",
        "x = np.linspace(-5,5,100)\n",
        "\n",
        "y = x**2 - 5\n",
        "\n",
        "fig = plt.figure()\n",
        "plt.grid()\n",
        "plt.xlabel('x')\n",
        "plt.ylabel('y')\n",
        "plt.plot(x,y,'g')\n",
        "plt.show()\n",
        "\n",
        "f = lambda x: x**2 - 5\n",
        "\n",
        "root1 = my_bisection(f, -1, 3, 0.1)\n",
        "print(\"The root with a tolerance of 0.1 is\", root1)\n",
        "root001 = my_bisection(f, -1, 3, 0.001)\n",
        "print(\"The root with a tolerance of 0.001 is\", root001)\n",
        "\n",
        "print(\"f(root1) =\", f(root1))\n",
        "print(\"f(root001) =\", f(root001))"
      ],
      "metadata": {
        "colab": {
          "base_uri": "https://localhost:8080/",
          "height": 347
        },
        "id": "i-zO8KdDocm7",
        "outputId": "c5cd2abf-6479-425b-d50c-ce94113ee6b5"
      },
      "execution_count": 55,
      "outputs": [
        {
          "output_type": "display_data",
          "data": {
            "text/plain": [
              "<Figure size 432x288 with 1 Axes>"
            ],
            "image/png": "[encoded data removed]"
          },
          "metadata": {
            "needs_background": "light"
          }
        },
        {
          "output_type": "stream",
          "name": "stdout",
          "text": [
            "The root with a tolerance of 0.1 is 2.25\n",
            "The root with a tolerance of 0.001 is 2.236083984375\n",
            "f(root1) = 0.0625\n",
            "f(root001) = 7.158517837524414e-05\n"
          ]
        }
      ]
    },
    {
      "cell_type": "markdown",
      "source": [
        "\n",
        "\n",
        "---\n",
        "\n"
      ],
      "metadata": {
        "id": "q5HBrfNt3T2m"
      }
    },
    {
      "cell_type": "markdown",
      "source": [
        "**19.4: Newton-Raphson Method**"
      ],
      "metadata": {
        "id": "myKPuN6q3GoD"
      }
    },
    {
      "cell_type": "markdown",
      "source": [
        "The Newton-Raphson method is another method used to find roots on a given function. In this method, a linear approximation equation is used and then built on by a Newton step to get closer and closer to the root until solved. The linear approximation can be written as $x_1 = x_0 - \\frac{f(x_0)}{f'(x_0)}$ and the Newton step to improve the root can be written as $x_i = x_{i-1}-\\frac{g(x_{i-1})}{g'(x_{i-1})}$."
      ],
      "metadata": {
        "id": "2w-wa_wVJ_dg"
      }
    },
    {
      "cell_type": "markdown",
      "source": [
        "*1) Find the root of the equation $f(x) = x^2 - 4$ using the Newton-Raphson method and $x_0 = 1.9$ as the starting point.*"
      ],
      "metadata": {
        "id": "BJppHCbdLtP6"
      }
    },
    {
      "cell_type": "code",
      "source": [
        "import numpy as np\n",
        "\n",
        "# Both the function and the function derivative are given\n",
        "# to be used in the newton_raphson equation which will find\n",
        "# the root of the equation using a given starting point.\n",
        "\n",
        "f = lambda x: x**2 - 4\n",
        "f_prime = lambda x: 2*x\n",
        "newton_raphson = 1.9 - (f(1.9))/(f_prime(1.9))\n",
        "\n",
        "print(\"Using the Newton-Raphson method, the root is\", newton_raphson)"
      ],
      "metadata": {
        "colab": {
          "base_uri": "https://localhost:8080/"
        },
        "id": "lt-t2L8qMFLt",
        "outputId": "cdff800d-60f6-4c4b-cccc-61f86f7685ed"
      },
      "execution_count": 7,
      "outputs": [
        {
          "output_type": "stream",
          "name": "stdout",
          "text": [
            "Using the Newton-Raphson method, the root is 2.0026315789473683\n"
          ]
        }
      ]
    },
    {
      "cell_type": "markdown",
      "source": [
        "*2) Find the root of the equation $f(x) = x^2 - 2x - 3$ using the Newton-Raphson methon and $x_0 = 2.9$ as the starting point*"
      ],
      "metadata": {
        "id": "Lo0WBVWpMmjp"
      }
    },
    {
      "cell_type": "code",
      "source": [
        "f = lambda x: x**2 - 2*x - 3\n",
        "f_prime = lambda x: 2*x - 2\n",
        "newton_raphson = 2.9 - (f(2.9))/(f_prime(2.9))\n",
        "\n",
        "print(\"Using the Newton-Raphson method, the root is\", newton_raphson)"
      ],
      "metadata": {
        "colab": {
          "base_uri": "https://localhost:8080/"
        },
        "id": "BeUWfuBIMmLE",
        "outputId": "1dfead49-d5c4-494a-a902-b8ab7b959006"
      },
      "execution_count": 6,
      "outputs": [
        {
          "output_type": "stream",
          "name": "stdout",
          "text": [
            "Using the Newton-Raphson method, the root is 3.0026315789473683\n"
          ]
        }
      ]
    },
    {
      "cell_type": "markdown",
      "source": [
        "*3) Find the root of the equation $f(x) = x^2 - 5x - 5$ using the Newton-Raphson methon and $x_0 = 5.8$ as the starting point*"
      ],
      "metadata": {
        "id": "Z7MvP4QUNmht"
      }
    },
    {
      "cell_type": "code",
      "source": [
        "f = lambda x: x**2 - 5*x - 5\n",
        "f_prime = lambda x: 2*x - 5\n",
        "newton_raphson = 5.8 - (f(5.8))/(f_prime(5.8))\n",
        "\n",
        "print(\"Using the Newton-Raphson method, the root is\", newton_raphson)"
      ],
      "metadata": {
        "colab": {
          "base_uri": "https://localhost:8080/"
        },
        "id": "mnR-6NW4N5jz",
        "outputId": "673a0a6e-8535-4e58-ae60-6a9510ed8ab0"
      },
      "execution_count": 8,
      "outputs": [
        {
          "output_type": "stream",
          "name": "stdout",
          "text": [
            "Using the Newton-Raphson method, the root is 5.8545454545454545\n"
          ]
        }
      ]
    },
    {
      "cell_type": "markdown",
      "source": [
        "\n",
        "\n",
        "---\n",
        "\n"
      ],
      "metadata": {
        "id": "cpjwUSxF3U5A"
      }
    },
    {
      "cell_type": "markdown",
      "source": [
        "**19.5: Root Finding in Python**"
      ],
      "metadata": {
        "id": "sAkHNYha3MEo"
      }
    },
    {
      "cell_type": "markdown",
      "source": [
        "Aside from the methods we have discussed to solve the roots of a function, python has a preexisting root finder to make the process easier!"
      ],
      "metadata": {
        "id": "dT071XicpGEF"
      }
    },
    {
      "cell_type": "markdown",
      "source": [
        "*1) Find the roots of the function $f(x) = x^5 - 30x^2 - x + 40$.*"
      ],
      "metadata": {
        "id": "AP4h2s2gLTuR"
      }
    },
    {
      "cell_type": "code",
      "source": [
        "from scipy.optimize import fsolve\n",
        "\n",
        "f = lambda x: x**5-30*x**2-x+40\n",
        "\n",
        "fsolve(f, [-10, 10])"
      ],
      "metadata": {
        "colab": {
          "base_uri": "https://localhost:8080/"
        },
        "id": "EO8fDSsCrDsa",
        "outputId": "dcae30d3-3b8b-46f6-d2eb-f88403a19e02"
      },
      "execution_count": 66,
      "outputs": [
        {
          "output_type": "execute_result",
          "data": {
            "text/plain": [
              "array([-1.14298223,  1.16927933])"
            ]
          },
          "metadata": {},
          "execution_count": 66
        }
      ]
    },
    {
      "cell_type": "markdown",
      "source": [
        "The function fsolve will return an array with all the roots of an equation!\n"
      ],
      "metadata": {
        "id": "gJFeruI6r7Rs"
      }
    },
    {
      "cell_type": "markdown",
      "source": [
        "*2) Find the roots of the function $f(x) = x^2 -4$.*"
      ],
      "metadata": {
        "id": "2VJk_DuMLhoh"
      }
    },
    {
      "cell_type": "code",
      "source": [
        "f = lambda x: x**2 - 4\n",
        "\n",
        "fsolve(f, [-10, 10])"
      ],
      "metadata": {
        "colab": {
          "base_uri": "https://localhost:8080/"
        },
        "id": "FRQAzQXrratj",
        "outputId": "dd454937-e8b1-4bc6-b7e2-d8ec27687cc9"
      },
      "execution_count": 67,
      "outputs": [
        {
          "output_type": "execute_result",
          "data": {
            "text/plain": [
              "array([-2.,  2.])"
            ]
          },
          "metadata": {},
          "execution_count": 67
        }
      ]
    },
    {
      "cell_type": "markdown",
      "source": [
        "*3) Find the roots of the function $f(x) = x^3 - 15x^2 +5x -10$.*"
      ],
      "metadata": {
        "id": "B4vP_0TVLkdB"
      }
    },
    {
      "cell_type": "code",
      "source": [
        "f = lambda x: x**3-15*x**2+5*x-10\n",
        "\n",
        "fsolve(f, [-10, 10])"
      ],
      "metadata": {
        "colab": {
          "base_uri": "https://localhost:8080/"
        },
        "id": "Y-jAaS89rhgU",
        "outputId": "23ad1bc1-4da2-47df-e1e4-1a3c70176655"
      },
      "execution_count": 68,
      "outputs": [
        {
          "output_type": "execute_result",
          "data": {
            "text/plain": [
              "array([ 0.16967488, 14.70624613])"
            ]
          },
          "metadata": {},
          "execution_count": 68
        }
      ]
    }
  ]
}