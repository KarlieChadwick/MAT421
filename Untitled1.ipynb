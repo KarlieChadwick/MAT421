{
  "nbformat": 4,
  "nbformat_minor": 0,
  "metadata": {
    "colab": {
      "provenance": [],
      "authorship_tag": "ABX9TyNl3+l07VMGc74IYlyyJj58",
      "include_colab_link": true
    },
    "kernelspec": {
      "name": "python3",
      "display_name": "Python 3"
    },
    "language_info": {
      "name": "python"
    }
  },
  "cells": [
    {
      "cell_type": "markdown",
      "metadata": {
        "id": "view-in-github",
        "colab_type": "text"
      },
      "source": [
        "<a href=\"https://colab.research.google.com/github/KarlieChadwick/MAT421/blob/Chapter-9/Untitled1.ipynb\" target=\"_parent\"><img src=\"https://colab.research.google.com/assets/colab-badge.svg\" alt=\"Open In Colab\"/></a>"
      ]
    },
    {
      "cell_type": "markdown",
      "source": [
        "# Chapter 1"
      ],
      "metadata": {
        "id": "VAve2iLG6Y7b"
      }
    },
    {
      "cell_type": "markdown",
      "source": [
        "Karlie Chadwick"
      ],
      "metadata": {
        "id": "SfaUbbFY6f1R"
      }
    },
    {
      "cell_type": "markdown",
      "source": [
        "Linear algebra is a great tool used when solving linear equations. The first term to discuss in linear algebra is a set. A set is a group of items; this can be objects, names, numbers, etc. In linear equations, sets are comprised of numbers. For example a set of all real (x,y) pairs that would make 3x^2 + 4y^2 = 5 true would look like this:\n",
        "$S =[(x,y):x,y∈ℝ, 2x^2 + 4y = 16]$"
      ],
      "metadata": {
        "id": "j2yNldJ7oB0Z"
      }
    },
    {
      "cell_type": "markdown",
      "source": [
        "\n",
        "\n",
        "---\n",
        "\n"
      ],
      "metadata": {
        "id": "d_I0JJc66ip_"
      }
    },
    {
      "cell_type": "markdown",
      "source": [
        "The next term is a vector. Vectors are defined as a point in the set of all real numbers. In the above set, a vector of the set could be [2, 2] because when x is 2 and y is 2, $2x^2 +4y = 16$ is true. A vector can be a column vector where the numbers are written vertically or a row vector where the numbers are written horizontally."
      ],
      "metadata": {
        "id": "PEKd2hkNpjSS"
      }
    },
    {
      "cell_type": "markdown",
      "source": [
        "*1) Find the dimensions of each vector given below.*"
      ],
      "metadata": {
        "id": "Z9d8MRGmrWok"
      }
    },
    {
      "cell_type": "code",
      "execution_count": 2,
      "metadata": {
        "colab": {
          "base_uri": "https://localhost:8080/"
        },
        "id": "gJD3Png-mzTc",
        "outputId": "715eabe2-1e9a-4552-b361-ec3a5a342735"
      },
      "outputs": [
        {
          "output_type": "stream",
          "name": "stdout",
          "text": [
            "(1, 5)\n"
          ]
        }
      ],
      "source": [
        "import numpy as np\n",
        "vector_row = np.array([[1, 2, 3, 4, 5]])\n",
        "\n",
        "print(vector_row.shape)"
      ]
    },
    {
      "cell_type": "code",
      "source": [
        "vector_column = np.array([[1], \n",
        "                          [2], \n",
        "                          [3], \n",
        "                          [4]])\n",
        "\n",
        "print(vector_column.shape)"
      ],
      "metadata": {
        "colab": {
          "base_uri": "https://localhost:8080/"
        },
        "id": "Macbf8xrrpuG",
        "outputId": "6048bd59-173e-4539-96e5-b36c93beb5e1"
      },
      "execution_count": 11,
      "outputs": [
        {
          "output_type": "stream",
          "name": "stdout",
          "text": [
            "(4, 1)\n"
          ]
        }
      ]
    },
    {
      "cell_type": "markdown",
      "source": [
        "The norm of the vector denotes its length. There are three types of vector norms calculated: the first, $L_1$ norm or 'Manhattan Distance' can be found using the equation $‖v‖_1 = ∑_i|v_i|$. The second, $L_2$ norm is the most common and can be found with the equation $‖v‖_2=\\sqrt{∑_iv_i^2}$. The last norm, $L_∞$, can be found using $‖v‖_p=^p\\sqrt{∑_iv_i^p}$ when p equals infinity."
      ],
      "metadata": {
        "id": "GrbEr_YH4ODe"
      }
    },
    {
      "cell_type": "markdown",
      "source": [
        "*2) Find the $L_1, L_2, L_∞$ norms of the vector below.*"
      ],
      "metadata": {
        "id": "AhbuSKO_EbuK"
      }
    },
    {
      "cell_type": "code",
      "source": [
        "from numpy.linalg import norm\n",
        "new_vector = [1, 4, 3, -1]\n",
        "print(new_vector)\n",
        "\n",
        "norm_1 = norm(new_vector, 1)\n",
        "norm_2 = norm(new_vector, 2)\n",
        "norm_inf = norm(new_vector, np.inf)\n",
        "\n",
        "print('L_1 is: %.1f'%norm_1)\n",
        "print('L_2 is: %.1f'%norm_2)\n",
        "print('L_inf is: %.1f'%norm_inf)"
      ],
      "metadata": {
        "colab": {
          "base_uri": "https://localhost:8080/"
        },
        "id": "sTqdy4xjnhi8",
        "outputId": "5692659e-256e-44e7-882c-c9baee9c1f80"
      },
      "execution_count": 4,
      "outputs": [
        {
          "output_type": "stream",
          "name": "stdout",
          "text": [
            "[1, 4, 3, -1]\n",
            "L_1 is: 9.0\n",
            "L_2 is: 5.2\n",
            "L_inf is: 4.0\n"
          ]
        }
      ]
    },
    {
      "cell_type": "code",
      "source": [
        "new_vector = [3, 2]\n",
        "print(new_vector)\n",
        "\n",
        "norm_1 = norm(new_vector, 1)\n",
        "norm_2 = norm(new_vector, 2)\n",
        "norm_inf = norm(new_vector, np.inf)\n",
        "\n",
        "print('L_1 is: %.1f'%norm_1)\n",
        "print('L_2 is: %.1f'%norm_2)\n",
        "print('L_inf is: %.1f'%norm_inf)"
      ],
      "metadata": {
        "colab": {
          "base_uri": "https://localhost:8080/"
        },
        "id": "tNtHdo4NFBMV",
        "outputId": "b4946815-8476-4e34-b2ca-8acdfab812f6"
      },
      "execution_count": 14,
      "outputs": [
        {
          "output_type": "stream",
          "name": "stdout",
          "text": [
            "[3, 2]\n",
            "L_1 is: 5.0\n",
            "L_2 is: 3.6\n",
            "L_inf is: 3.0\n"
          ]
        }
      ]
    },
    {
      "cell_type": "markdown",
      "source": [
        "Vectors can be added and multiplied together to form new vectors. Vector addition is done by adding each element of the vectors together. Vector multiplication can be done by multiplying a vector with either a scalar or vector. In scalar multiplication, a single value is multiplied throughout the vector elements. In vector multiplication, the dot product is used and is defined as the sum of the product of the respective elements in each vector. The dot product can also be a measure of the angle between the two vectors and when the angle is zero, the vectors are parallel, but when the angle is π/2, the vectors are orthogonal. This equation can be written as $𝑣⋅𝑤=‖𝑣‖_2‖𝑤‖_2cos𝜃$."
      ],
      "metadata": {
        "id": "7F3m63M4lM_2"
      }
    },
    {
      "cell_type": "markdown",
      "source": [
        "*3) Use the dot product to find the angle between the two given vectors.*"
      ],
      "metadata": {
        "id": "kf7LSJfkvckS"
      }
    },
    {
      "cell_type": "code",
      "source": [
        "from numpy import arccos, dot\n",
        "\n",
        "v = np.array([[1, 6, 4]])\n",
        "w = np.array([[10, 1, 3]])\n",
        "theta = \\\n",
        "    arccos(dot(v, w.T)/(norm(v)*norm(w)))\n",
        "print(theta)"
      ],
      "metadata": {
        "colab": {
          "base_uri": "https://localhost:8080/"
        },
        "id": "9Vx6a75AnkuP",
        "outputId": "4144f7e4-242e-4485-c2f3-cbae1fa2a041"
      },
      "execution_count": 12,
      "outputs": [
        {
          "output_type": "stream",
          "name": "stdout",
          "text": [
            "[[1.19532523]]\n"
          ]
        }
      ]
    },
    {
      "cell_type": "code",
      "source": [
        "v = np.array([[0, 1]])\n",
        "w = np.array([[1, 0]])\n",
        "theta = \\\n",
        "    arccos(dot(v, w.T)/(norm(v)*norm(w)))\n",
        "print(theta)"
      ],
      "metadata": {
        "colab": {
          "base_uri": "https://localhost:8080/"
        },
        "id": "6ZLkuJnFsW2l",
        "outputId": "00f89014-dce3-4989-b508-83f18ee3cdd5"
      },
      "execution_count": 10,
      "outputs": [
        {
          "output_type": "stream",
          "name": "stdout",
          "text": [
            "[[1.57079633]]\n"
          ]
        }
      ]
    },
    {
      "cell_type": "code",
      "source": [
        "v = np.array([[1, 2, 3, 4]])\n",
        "w = np.array([[2, 4, 6, 8]])\n",
        "theta = \\\n",
        "    arccos(dot(v, w.T)/(norm(v)*norm(w)))\n",
        "print(theta)"
      ],
      "metadata": {
        "colab": {
          "base_uri": "https://localhost:8080/"
        },
        "id": "ACf4IZ0fuesR",
        "outputId": "ce34dd48-8ddb-40e6-eb71-0be5c53a698c"
      },
      "execution_count": 7,
      "outputs": [
        {
          "output_type": "stream",
          "name": "stdout",
          "text": [
            "[[0.]]\n"
          ]
        }
      ]
    },
    {
      "cell_type": "markdown",
      "source": [
        "Two vectors can also be considered orthonormal if they are both orthoganal and unit vectors. If a set is not orthonormal by nature, the Gram-Schmidt process can orthonormalize a set of vectors by taking a finite linearly independent (no combination of the vectors equals a zero vector) set and generating an orthogonal set in the same subspace. The equation used in this process can be written as $u_k = v_k - Σ^{k-1}_{j=1}proj_{u_j}(v_k), e_k = \\frac{u_k}{||u_k||}$"
      ],
      "metadata": {
        "id": "bEJVqpMh4I_c"
      }
    },
    {
      "cell_type": "markdown",
      "source": [
        "The last way to edit vectors is by using the cross prouduct; the cross product is a vector perpendicular to both original vectors with its length equal to the area enclosed by the parallelogram created by the two vectors. The equation can be written as $𝑣×𝑤=‖𝑣‖_2‖𝑤‖_2sin(𝜃)n$."
      ],
      "metadata": {
        "id": "EfB2DmNMvZHf"
      }
    },
    {
      "cell_type": "markdown",
      "source": [
        "*4) Given the two vectors, find the cross product.*"
      ],
      "metadata": {
        "id": "n7QbOO-3y4Oy"
      }
    },
    {
      "cell_type": "code",
      "source": [
        "v = np.array([[1, 2]])\n",
        "w = np.array([[3, 4]])\n",
        "print(np.cross(v, w))"
      ],
      "metadata": {
        "colab": {
          "base_uri": "https://localhost:8080/"
        },
        "id": "UtJbuM0CzJJk",
        "outputId": "b255c4b6-3935-4904-813a-b9d71da68b2d"
      },
      "execution_count": 14,
      "outputs": [
        {
          "output_type": "stream",
          "name": "stdout",
          "text": [
            "[-2]\n"
          ]
        }
      ]
    },
    {
      "cell_type": "code",
      "source": [
        "v = np.array([[1, 2, 4]])\n",
        "w = np.array([[3, 5, 1]])\n",
        "print(np.cross(v, w))"
      ],
      "metadata": {
        "colab": {
          "base_uri": "https://localhost:8080/"
        },
        "id": "mu_1J7ndnn3e",
        "outputId": "4fa34fcb-2673-4aac-c1f3-9c35b6dec727"
      },
      "execution_count": 13,
      "outputs": [
        {
          "output_type": "stream",
          "name": "stdout",
          "text": [
            "[[-18  11  -1]]\n"
          ]
        }
      ]
    }
  ]
}