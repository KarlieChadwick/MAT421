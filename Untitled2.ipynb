{
  "nbformat": 4,
  "nbformat_minor": 0,
  "metadata": {
    "colab": {
      "provenance": [],
      "authorship_tag": "ABX9TyOcl7vybXOviivrI8rPy/FM",
      "include_colab_link": true
    },
    "kernelspec": {
      "name": "python3",
      "display_name": "Python 3"
    },
    "language_info": {
      "name": "python"
    }
  },
  "cells": [
    {
      "cell_type": "markdown",
      "metadata": {
        "id": "view-in-github",
        "colab_type": "text"
      },
      "source": [
        "<a href=\"https://colab.research.google.com/github/KarlieChadwick/MAT421/blob/Chapter-9/Untitled2.ipynb\" target=\"_parent\"><img src=\"https://colab.research.google.com/assets/colab-badge.svg\" alt=\"Open In Colab\"/></a>"
      ]
    },
    {
      "cell_type": "markdown",
      "source": [
        "# Chapter 3"
      ],
      "metadata": {
        "id": "hzdgneaB8xs0"
      }
    },
    {
      "cell_type": "markdown",
      "source": [
        "Karlie Chadwick"
      ],
      "metadata": {
        "id": "-sxh9syE81Wq"
      }
    },
    {
      "cell_type": "markdown",
      "source": [
        "**Chapter 3.2: Continuity and Differentiation**"
      ],
      "metadata": {
        "id": "N8M8XtTB87qa"
      }
    },
    {
      "cell_type": "markdown",
      "source": [
        "Limits are defined as the value a function approaches as the input approaches a given value. Limits are useful when dealing with continuities, integrals, and derivatives."
      ],
      "metadata": {
        "id": "G4kbbkHANzYY"
      }
    },
    {
      "cell_type": "markdown",
      "source": [
        "*1) What is the limit as x approaches infinity of $y = x$?*"
      ],
      "metadata": {
        "id": "a4lh9W9M-hsE"
      }
    },
    {
      "cell_type": "code",
      "source": [
        "from sympy import limit, Symbol\n",
        "import math\n",
        "\n",
        "x = Symbol('x')\n",
        "y = x\n",
        "\n",
        "lim = limit(y, x, float(math.inf))\n",
        "\n",
        "print('The limit is ' + str(lim))"
      ],
      "metadata": {
        "colab": {
          "base_uri": "https://localhost:8080/"
        },
        "id": "MUC1QlvV9UbR",
        "outputId": "ebfa82e8-6650-478d-85de-73d4e2318fb0"
      },
      "execution_count": 12,
      "outputs": [
        {
          "output_type": "stream",
          "name": "stdout",
          "text": [
            "The limit is oo\n"
          ]
        }
      ]
    },
    {
      "cell_type": "markdown",
      "source": [
        "*2) What is the limit as x approaches negative infinity of $y = \\frac{2x^3}{3x}$?*"
      ],
      "metadata": {
        "id": "6ttnGaCz_UtS"
      }
    },
    {
      "cell_type": "code",
      "source": [
        "x = Symbol('x')\n",
        "y = (2 * x * x)/(3 * x)\n",
        "\n",
        "lim = limit(y, x, -1*float(math.inf))\n",
        "\n",
        "print('The limit is ' + str(lim))"
      ],
      "metadata": {
        "colab": {
          "base_uri": "https://localhost:8080/"
        },
        "id": "1pL50xjq-BCc",
        "outputId": "b49c27af-6a11-4fe7-baac-c9e0a3918b2a"
      },
      "execution_count": 19,
      "outputs": [
        {
          "output_type": "stream",
          "name": "stdout",
          "text": [
            "The limit is -oo\n"
          ]
        }
      ]
    },
    {
      "cell_type": "markdown",
      "source": [
        "*3) What is the limit as x approaches 2 of $y = \\frac{1}{4x}$?*"
      ],
      "metadata": {
        "id": "oNeUliqo_kKk"
      }
    },
    {
      "cell_type": "code",
      "source": [
        "x = Symbol('x')\n",
        "y = 1 / (4 * x)\n",
        "\n",
        "lim = limit(y, x, 2)\n",
        "\n",
        "print('The limit is ' + str(lim))"
      ],
      "metadata": {
        "colab": {
          "base_uri": "https://localhost:8080/"
        },
        "id": "PWHjuwBG-T0x",
        "outputId": "d73f9b26-3d2a-4a39-ec5e-9bf8bb9ea4b8"
      },
      "execution_count": 17,
      "outputs": [
        {
          "output_type": "stream",
          "name": "stdout",
          "text": [
            "The limit is 1/8\n"
          ]
        }
      ]
    },
    {
      "cell_type": "markdown",
      "source": [
        "Derivatives are the next topic discussed in chapter 3. The derivative of a given function measures the sensetivity to chage of the output. When dealing with multiple variables, a derivative will be found with respect to a single variable and all other variables will essentially be treated as constant values."
      ],
      "metadata": {
        "id": "sxD4wy6lOzXd"
      }
    },
    {
      "cell_type": "markdown",
      "source": [
        "*4) Find the derivative of $f=3ab + 5a^2 -2cb +4abc^2$ with respect to a, b, and c.*"
      ],
      "metadata": {
        "id": "iPZlwGjgME1_"
      }
    },
    {
      "cell_type": "code",
      "source": [
        "from sympy import symbols, diff\n",
        "\n",
        "a, b, c = symbols('a b c', real=True)\n",
        "\n",
        "f = 3*a*b + 5*a**2 - 2*c*b + 4*a*b*c**2\n",
        "\n",
        "print('The derivative with respect to a is ' + str(diff(f,a)))\n",
        "print('The derivative with respect to b is ' + str(diff(f,b)))\n",
        "print('The derivative with respect to c is ' + str(diff(f,c)))"
      ],
      "metadata": {
        "colab": {
          "base_uri": "https://localhost:8080/"
        },
        "id": "3BHMMe4t_wUM",
        "outputId": "e1c2084d-b9fa-4f4a-a77e-af5c89b818bb"
      },
      "execution_count": 1,
      "outputs": [
        {
          "output_type": "stream",
          "name": "stdout",
          "text": [
            "The derivative with respect to a is 10*a + 4*b*c**2 + 3*b\n",
            "The derivative with respect to b is 4*a*c**2 + 3*a - 2*c\n",
            "The derivative with respect to c is 8*a*b*c - 2*b\n"
          ]
        }
      ]
    },
    {
      "cell_type": "markdown",
      "source": [
        "In text the anwers above read:\n",
        "- $10a + 4bc^2 +3b$\n",
        "- $4ac^2 + 3a - 2c$\n",
        "- $8abc -2b$"
      ],
      "metadata": {
        "id": "1048qQpSBkzb"
      }
    },
    {
      "cell_type": "code",
      "source": [
        "from sympy import sin, cos\n",
        "\n",
        "a, b, c = symbols('a b c', real=True)\n",
        "\n",
        "f = 5*cos(a) + 4*b*sin(c) - 5*a**3*b + 2*c\n",
        "\n",
        "print('The derivative with respect to a is ' + str(diff(f,a)))\n",
        "print('The derivative with respect to b is ' + str(diff(f,b)))\n",
        "print('The derivative with respect to c is ' + str(diff(f,c)))"
      ],
      "metadata": {
        "colab": {
          "base_uri": "https://localhost:8080/"
        },
        "id": "2PrgL3R0MERT",
        "outputId": "69ad186d-f1f2-4761-85af-f5abbb9ab021"
      },
      "execution_count": 4,
      "outputs": [
        {
          "output_type": "stream",
          "name": "stdout",
          "text": [
            "The derivative with respect to a is -15*a**2*b - 5*sin(a)\n",
            "The derivative with respect to b is -5*a**3 + 4*sin(c)\n",
            "The derivative with respect to c is 4*b*cos(c) + 2\n"
          ]
        }
      ]
    },
    {
      "cell_type": "markdown",
      "source": [
        "In text the anwers above read:\n",
        "- $-15a^2b - 5sin(a)$\n",
        "- $-5a^3 + 4sin(c)$\n",
        "- $4bcos(c) + 2$"
      ],
      "metadata": {
        "id": "JbDHBI22MuR-"
      }
    },
    {
      "cell_type": "markdown",
      "source": [
        "**Chapter 3.3: Unconstrained Optimization**"
      ],
      "metadata": {
        "id": "EQQ8joo6B8Jm"
      }
    },
    {
      "cell_type": "markdown",
      "source": [
        "In this chapter, local and global minimizers were used to derive optimality conditions for unconstrained optimization problems. A local minimizers is a minimum value of an equation in a given range. A global minimizer is similar, but takes into account the whole equation and finds the smallest value. \n",
        "\n",
        "A convex function is an equation that can be seen visually to shape upward like a cup. F is convex only if $f(y) >= f(x) + f(x)^T(y-x)$\n",
        "\n"
      ],
      "metadata": {
        "id": "ouVnhowLPVaB"
      }
    },
    {
      "cell_type": "code",
      "source": [
        "import numpy as np\n",
        "import matplotlib.pyplot as plt\n",
        "plt.style.use('seaborn')\n",
        "\n",
        "x = np.linspace(0,8)\n",
        "y = x**3\n",
        "\n",
        "x1 = np.linspace(0,6)\n",
        "y1 = x*27\n",
        "\n",
        "plt.plot(x, y, 'g', x1, y1, 'b')\n",
        "plt.grid('w')\n",
        "plt.xlabel('x')\n",
        "plt.ylabel('y')\n",
        "plt.title('Convex Function')\n",
        "plt.show()"
      ],
      "metadata": {
        "colab": {
          "base_uri": "https://localhost:8080/",
          "height": 376
        },
        "id": "h6-BNhprCFhQ",
        "outputId": "12059f09-dd23-4a92-a402-a3db9eb71c3d"
      },
      "execution_count": 53,
      "outputs": [
        {
          "output_type": "display_data",
          "data": {
            "text/plain": [
              "<Figure size 576x396 with 1 Axes>"
            ],
            "image/png": "[encoded data removed]"
          },
          "metadata": {}
        }
      ]
    }
  ]
}