{
  "nbformat": 4,
  "nbformat_minor": 0,
  "metadata": {
    "colab": {
      "provenance": [],
      "authorship_tag": "ABX9TyOd6EIIBRQB8+w7a84Of3/b",
      "include_colab_link": true
    },
    "kernelspec": {
      "name": "python3",
      "display_name": "Python 3"
    },
    "language_info": {
      "name": "python"
    }
  },
  "cells": [
    {
      "cell_type": "markdown",
      "metadata": {
        "id": "view-in-github",
        "colab_type": "text"
      },
      "source": [
        "<a href=\"https://colab.research.google.com/github/KarlieChadwick/MAT421/blob/main/Chapter_9_MAT_421%2C_Karlie_Chadwick.ipynb\" target=\"_parent\"><img src=\"https://colab.research.google.com/assets/colab-badge.svg\" alt=\"Open In Colab\"/></a>"
      ]
    },
    {
      "cell_type": "markdown",
      "source": [
        "# Chapter 9 - MAT 421\n"
      ],
      "metadata": {
        "id": "-qz9F3eEPB2R"
      }
    },
    {
      "cell_type": "markdown",
      "source": [
        "Karlie Chadwick"
      ],
      "metadata": {
        "id": "Hnc1KEqBSP3h"
      }
    },
    {
      "cell_type": "markdown",
      "source": [
        "I tried to work on some of the problems in the book as well as creat my own questions to help with my understanding of the material. My answers are below!"
      ],
      "metadata": {
        "id": "2wAk1tIX3PUw"
      }
    },
    {
      "cell_type": "markdown",
      "source": [
        "**1) Write a function my_bin_2_dec(b) where b is binary number represented by a list of ones and zeros. The last element of b represents the coefficient of 2^0, the second-to-last element of b represents the coefficient of 2^1, and so on. The output variable, d, should be the decimal representation of b.**"
      ],
      "metadata": {
        "id": "LIbrFN-0Q7HU"
      }
    },
    {
      "cell_type": "code",
      "source": [
        "def my_bin_2_dec(b):\n",
        "\n",
        "# d is first assigned to the value zero. i will represent\n",
        "# the binary number 1 or 0 in the given set. The for loop\n",
        "# will continue until b, the binary input, is over. Inside\n",
        "# the for loop, d will continue to change based on the\n",
        "# given binary number. \n",
        "  \n",
        "  d = 0\n",
        "  \n",
        "  for i in b:\n",
        "    d = (2 * d) + i\n",
        "  \n",
        "  return d"
      ],
      "metadata": {
        "id": "_jhI432RRJ0b"
      },
      "execution_count": null,
      "outputs": []
    },
    {
      "cell_type": "code",
      "source": [
        "# Test 1:\n",
        "my_bin_2_dec([1,1,1])"
      ],
      "metadata": {
        "colab": {
          "base_uri": "https://localhost:8080/"
        },
        "id": "PeFwk6BiX4-d",
        "outputId": "743c5e0b-1433-4197-8bfa-6e0d65595ad3"
      },
      "execution_count": null,
      "outputs": [
        {
          "output_type": "execute_result",
          "data": {
            "text/plain": [
              "7"
            ]
          },
          "metadata": {},
          "execution_count": 104
        }
      ]
    },
    {
      "cell_type": "code",
      "source": [
        "# Test 2:\n",
        "my_bin_2_dec([1,0,1,0,1,0,1])"
      ],
      "metadata": {
        "colab": {
          "base_uri": "https://localhost:8080/"
        },
        "id": "3Fn_UB_fXFGJ",
        "outputId": "4584988a-bf25-4036-915f-d4f579753441"
      },
      "execution_count": null,
      "outputs": [
        {
          "output_type": "execute_result",
          "data": {
            "text/plain": [
              "85"
            ]
          },
          "metadata": {},
          "execution_count": 105
        }
      ]
    },
    {
      "cell_type": "code",
      "source": [
        "# Test 3:\n",
        "my_bin_2_dec([1]*25)"
      ],
      "metadata": {
        "colab": {
          "base_uri": "https://localhost:8080/"
        },
        "id": "tcvSQaEaX-JM",
        "outputId": "6780ef55-872f-4a84-948d-103c0a0ec763"
      },
      "execution_count": null,
      "outputs": [
        {
          "output_type": "execute_result",
          "data": {
            "text/plain": [
              "33554431"
            ]
          },
          "metadata": {},
          "execution_count": 106
        }
      ]
    },
    {
      "cell_type": "markdown",
      "source": [
        "**2) Write a function my_dec_2_bin(d), where d is a positive integer in decimal, and b is the binary representation of d. The output b must be a list of ones and zeros, and the leading term must be a 1 unless the decimal input value is 0.**"
      ],
      "metadata": {
        "id": "LYsjLmh2ZUTA"
      }
    },
    {
      "cell_type": "code",
      "source": [
        "def my_dec_2_bin(d):\n",
        "\n",
        "# b will represent the decimal number, d, in binary form.\n",
        "# The munber is inputed into a for loop and converted to binary\n",
        "# using the bin() function. Each number is then turned into\n",
        "# an integer and listed out for formatting purposes.\n",
        "\n",
        "  b = [int(i) for i in bin(d)[2:]]\n",
        "\n",
        "  return b"
      ],
      "metadata": {
        "id": "fBGtYO6UZaSE"
      },
      "execution_count": null,
      "outputs": []
    },
    {
      "cell_type": "code",
      "source": [
        "# Test 1:\n",
        "my_dec_2_bin(0)"
      ],
      "metadata": {
        "colab": {
          "base_uri": "https://localhost:8080/"
        },
        "id": "uO_IhSk2ZmQv",
        "outputId": "eb1d17e5-b5f8-464a-dcec-54d0b287d799"
      },
      "execution_count": null,
      "outputs": [
        {
          "output_type": "execute_result",
          "data": {
            "text/plain": [
              "[0]"
            ]
          },
          "metadata": {},
          "execution_count": 108
        }
      ]
    },
    {
      "cell_type": "code",
      "source": [
        "# Test 2:\n",
        "my_dec_2_bin(23)"
      ],
      "metadata": {
        "colab": {
          "base_uri": "https://localhost:8080/"
        },
        "id": "DtGaNiW1ZnnE",
        "outputId": "69d9a24a-f89d-4080-e03a-79e91d01dba1"
      },
      "execution_count": null,
      "outputs": [
        {
          "output_type": "execute_result",
          "data": {
            "text/plain": [
              "[1, 0, 1, 1, 1]"
            ]
          },
          "metadata": {},
          "execution_count": 109
        }
      ]
    },
    {
      "cell_type": "code",
      "source": [
        "# Test 3:\n",
        "my_dec_2_bin(2097)"
      ],
      "metadata": {
        "colab": {
          "base_uri": "https://localhost:8080/"
        },
        "id": "2B46q0tfa_g-",
        "outputId": "d9d7ff37-cf1e-4770-f54a-d046ba108b6a"
      },
      "execution_count": null,
      "outputs": [
        {
          "output_type": "execute_result",
          "data": {
            "text/plain": [
              "[1, 0, 0, 0, 0, 0, 1, 1, 0, 0, 0, 1]"
            ]
          },
          "metadata": {},
          "execution_count": 110
        }
      ]
    },
    {
      "cell_type": "markdown",
      "source": [
        "**3) Use the two functions you wrote in problems 1 and 2 to compute d = my_bin_2_dec(my_dec_2_bin(12654)). Do you get the same number?**"
      ],
      "metadata": {
        "id": "UCfDNijFbF4h"
      }
    },
    {
      "cell_type": "code",
      "source": [
        "my_bin_2_dec(my_dec_2_bin(12654))"
      ],
      "metadata": {
        "colab": {
          "base_uri": "https://localhost:8080/"
        },
        "id": "lx02ZdyGbIoU",
        "outputId": "f6e3568d-a028-4be2-9e4e-3180a77b9b31"
      },
      "execution_count": null,
      "outputs": [
        {
          "output_type": "execute_result",
          "data": {
            "text/plain": [
              "12654"
            ]
          },
          "metadata": {},
          "execution_count": 111
        }
      ]
    },
    {
      "cell_type": "markdown",
      "source": [
        "**4) Create two functions to perform addition and multiplication of binary numbers.**"
      ],
      "metadata": {
        "id": "DUbCpVd05LP_"
      }
    },
    {
      "cell_type": "code",
      "source": [
        "def my_bin_adder(x,y):\n",
        "\n",
        "  # Here the binary numbers were converted to decimal numbers,\n",
        "  # added together and then reconverted into binary numbers.\n",
        "  \n",
        "  sum = bin(int(x,2) + int(y,2))\n",
        "\n",
        "  return(list(map(int, sum[2:])))"
      ],
      "metadata": {
        "id": "EG9KiqsB5Och"
      },
      "execution_count": null,
      "outputs": []
    },
    {
      "cell_type": "code",
      "source": [
        "my_bin_adder('1010','110')"
      ],
      "metadata": {
        "colab": {
          "base_uri": "https://localhost:8080/"
        },
        "id": "eB0bB2ag6TqG",
        "outputId": "e152d2f1-5229-43b9-85ec-a4ad99573f7d"
      },
      "execution_count": null,
      "outputs": [
        {
          "output_type": "execute_result",
          "data": {
            "text/plain": [
              "[1, 0, 0, 0, 0]"
            ]
          },
          "metadata": {},
          "execution_count": 247
        }
      ]
    },
    {
      "cell_type": "markdown",
      "source": [],
      "metadata": {
        "id": "LaXjYp6H9Q5N"
      }
    },
    {
      "cell_type": "code",
      "source": [
        "my_bin_adder('1101','10111')"
      ],
      "metadata": {
        "colab": {
          "base_uri": "https://localhost:8080/"
        },
        "id": "68bkhwBz6pa0",
        "outputId": "96573108-effe-4f42-f005-78346da77892"
      },
      "execution_count": null,
      "outputs": [
        {
          "output_type": "execute_result",
          "data": {
            "text/plain": [
              "[1, 0, 0, 1, 0, 0]"
            ]
          },
          "metadata": {},
          "execution_count": 248
        }
      ]
    },
    {
      "cell_type": "code",
      "source": [
        "def my_bin_multiplier(x,y):\n",
        "\n",
        "  # Just like above, the numbers were converted to decimal form,\n",
        "  # multiplied and then returned to a binary number.\n",
        "\n",
        "  mult = bin(int(x,2) * int(y,2))\n",
        "\n",
        "  return(list(map(int, mult[2:])))"
      ],
      "metadata": {
        "id": "xavZOqrI5no8"
      },
      "execution_count": null,
      "outputs": []
    },
    {
      "cell_type": "code",
      "source": [
        "# Test 1:\n",
        "my_bin_multiplier('11','1001')"
      ],
      "metadata": {
        "colab": {
          "base_uri": "https://localhost:8080/"
        },
        "id": "ROXhkjNG6yzZ",
        "outputId": "5acc1fb0-aeaa-4731-d69f-643df3686764"
      },
      "execution_count": null,
      "outputs": [
        {
          "output_type": "execute_result",
          "data": {
            "text/plain": [
              "[1, 1, 0, 1, 1]"
            ]
          },
          "metadata": {},
          "execution_count": 250
        }
      ]
    },
    {
      "cell_type": "code",
      "source": [
        "# Test 2:\n",
        "my_bin_multiplier('101','11001')"
      ],
      "metadata": {
        "colab": {
          "base_uri": "https://localhost:8080/"
        },
        "id": "OdYVQJhd64Pz",
        "outputId": "dafa0390-4443-409d-8fd9-da131636386b"
      },
      "execution_count": null,
      "outputs": [
        {
          "output_type": "execute_result",
          "data": {
            "text/plain": [
              "[1, 1, 1, 1, 1, 0, 1]"
            ]
          },
          "metadata": {},
          "execution_count": 251
        }
      ]
    },
    {
      "cell_type": "markdown",
      "source": [
        "**5) What is the effect of allocating more bits to the fraction versus the characteristic and vice versa? What is the effect of allocating more bits to the sign?**"
      ],
      "metadata": {
        "id": "SmgNi5IHhFLz"
      }
    },
    {
      "cell_type": "markdown",
      "source": [
        "If you allocate more bits to the fraction, you create more digits after the decimal point. If there are more bits allocated to the characteristic, more digits will come before the decimal point. The sign only needs one bit allocated to it to determine the negative or positive property of the number, so allocating more bits to it will not be beneificial to the solution."
      ],
      "metadata": {
        "id": "fX17F77_Hywd"
      }
    },
    {
      "cell_type": "markdown",
      "source": [
        "**6) Write a function my_ieee_2_dec(ieee), where ieee is a string contains 64 characters of ones and zeros representing a 64-bit IEEE754 number. The output should be d, the equivalent decimal representation of ieee. The input variable ieee will always be a 64-element string of ones and zeros defining a 64-bit float.**"
      ],
      "metadata": {
        "id": "b-WarQUqI-r8"
      }
    },
    {
      "cell_type": "code",
      "source": [
        "import sys\n",
        "sys.float_info"
      ],
      "metadata": {
        "colab": {
          "base_uri": "https://localhost:8080/"
        },
        "id": "nreJuvZJCnfl",
        "outputId": "5acd6ec8-72a5-4b3f-a085-ee0716a6e3c0"
      },
      "execution_count": null,
      "outputs": [
        {
          "output_type": "execute_result",
          "data": {
            "text/plain": [
              "sys.float_info(max=1.7976931348623157e+308, max_exp=1024, max_10_exp=308, min=2.2250738585072014e-308, min_exp=-1021, min_10_exp=-307, dig=15, mant_dig=53, epsilon=2.220446049250313e-16, radix=2, rounds=1)"
            ]
          },
          "metadata": {},
          "execution_count": 270
        }
      ]
    },
    {
      "cell_type": "code",
      "source": [
        "def my_ieee_2_dec(ieee):\n",
        "  \n",
        "  # The first bit of the 64-bit IEEE754 number represents the sign\n",
        "  # of its decimal partner. In order to evaluate the sign, I spliced\n",
        "  # the first digit of the input and tested if it was either 1 or 0.\n",
        "  # If it was 1, the sign would be negative and if it was 0 the sign\n",
        "  # would be positive.\n",
        "  \n",
        "  sign = int(ieee[0])\n",
        "\n",
        "  if sign == 1:\n",
        "    sign = -1 * sign\n",
        "\n",
        "  else:\n",
        "    sign = 1\n",
        "\n",
        "  # After determining the sign, the exponent was evaulated using the\n",
        "  # next 11 bits of the number. Using the integer function and base 2\n",
        "  # the number was converted to a decimal to be used in the final equation.\n",
        "\n",
        "  exp = int(ieee[1:12],2)\n",
        "  \n",
        "  # The fraction of the decimal number is represented as the last 52 bits. \n",
        "  # Here the binary code was turned into integers to be put into a for loop.\n",
        "  # The for loop converted the binary number into a decimal to be added to\n",
        "  # the final equation.\n",
        "\n",
        "  frac = list(ieee[12:])\n",
        "  frac = [int(i) for i in frac]\n",
        "\n",
        "  f = 0\n",
        "  x = 1\n",
        "  \n",
        "  for i in frac:\n",
        "    f = f + (i / (2 ** x))\n",
        "    x = x + 1\n",
        "\n",
        "  # The final equation combines the sign, exponent, and fraction into one\n",
        "  # base 10 answer.\n",
        "\n",
        "  d = sign * (2 ** (exp - 1023)) * (1 + f)\n",
        "\n",
        "  return d"
      ],
      "metadata": {
        "id": "PvbAOqfaJGXD"
      },
      "execution_count": null,
      "outputs": []
    },
    {
      "cell_type": "code",
      "source": [
        "# Test 1\n",
        "ieee = '1100000001001000000000000000000000000000000000000000000000000000'\n",
        "my_ieee_2_dec(ieee)"
      ],
      "metadata": {
        "colab": {
          "base_uri": "https://localhost:8080/"
        },
        "id": "MBMzlFdtKiHB",
        "outputId": "d28cbb2a-2876-4059-9c30-e4be36536da4"
      },
      "execution_count": null,
      "outputs": [
        {
          "output_type": "execute_result",
          "data": {
            "text/plain": [
              "-48.0"
            ]
          },
          "metadata": {},
          "execution_count": 272
        }
      ]
    },
    {
      "cell_type": "code",
      "source": [
        "# Test 2\n",
        "ieee = '0100000000001011001100110011001100110011001100110011001100110011'\n",
        "my_ieee_2_dec(ieee)"
      ],
      "metadata": {
        "colab": {
          "base_uri": "https://localhost:8080/"
        },
        "id": "dfKKxSGUteM2",
        "outputId": "b356fda2-18f7-4487-bda2-020afe349cdc"
      },
      "execution_count": null,
      "outputs": [
        {
          "output_type": "execute_result",
          "data": {
            "text/plain": [
              "3.4"
            ]
          },
          "metadata": {},
          "execution_count": 273
        }
      ]
    },
    {
      "cell_type": "markdown",
      "source": [
        "**7) Use the np.spacing function to determine the smallest number such that the gap is 1.**"
      ],
      "metadata": {
        "id": "zCYqAejBsnhk"
      }
    },
    {
      "cell_type": "code",
      "source": [
        "# I used functions of numpy to determine the smallest number and then\n",
        "# compared that number using the np.spacing function at a gap of 1.\n",
        "\n",
        "import numpy as np\n",
        "\n",
        "smallest = np.finfo(np.float64).eps\n",
        "\n",
        "print('The smallest number with a gap of 1 is ' + str(smallest))\n",
        "\n",
        "np.spacing(1) == smallest"
      ],
      "metadata": {
        "colab": {
          "base_uri": "https://localhost:8080/"
        },
        "id": "xT1bdUqeJUhS",
        "outputId": "884e5e87-0914-4e40-a9ea-6e543119b2d0"
      },
      "execution_count": null,
      "outputs": [
        {
          "output_type": "stream",
          "name": "stdout",
          "text": [
            "The smallest number with a gap of 1 is 2.220446049250313e-16\n"
          ]
        },
        {
          "output_type": "execute_result",
          "data": {
            "text/plain": [
              "True"
            ]
          },
          "metadata": {},
          "execution_count": 293
        }
      ]
    },
    {
      "cell_type": "markdown",
      "source": [
        "**8) Determine the gap at 1e6 using the np.spacing function and that adding less that half the gap outputs the same number.**"
      ],
      "metadata": {
        "id": "xlFXEaoi-qcx"
      }
    },
    {
      "cell_type": "code",
      "source": [
        "# The np spacing function will call upon the gap of the given number;\n",
        "# in this case we are finding the gap at 1e6.\n",
        "\n",
        "np.spacing(1e6)"
      ],
      "metadata": {
        "colab": {
          "base_uri": "https://localhost:8080/"
        },
        "id": "BDB_5eRK-hRG",
        "outputId": "821a863c-44eb-475a-c24c-1bbee086afcf"
      },
      "execution_count": null,
      "outputs": [
        {
          "output_type": "execute_result",
          "data": {
            "text/plain": [
              "1.1641532182693481e-10"
            ]
          },
          "metadata": {},
          "execution_count": 252
        }
      ]
    },
    {
      "cell_type": "code",
      "source": [
        "# A given number will be equal to that number plus less than half\n",
        "# of the gap at that number.\n",
        "\n",
        "1e6 == (1e6 + np.spacing(1e6)/4)"
      ],
      "metadata": {
        "colab": {
          "base_uri": "https://localhost:8080/"
        },
        "id": "um__99FB-lEa",
        "outputId": "3bbe8d99-cf02-4419-c007-cf6a14f508ef"
      },
      "execution_count": null,
      "outputs": [
        {
          "output_type": "execute_result",
          "data": {
            "text/plain": [
              "True"
            ]
          },
          "metadata": {},
          "execution_count": 254
        }
      ]
    },
    {
      "cell_type": "code",
      "source": [
        "# If the addition to the number is greater than half the gap at\n",
        "# that number, it will result in a different number\n",
        "\n",
        "1e6 == (1e6 + (np.spacing(1e6) * (2/3)))"
      ],
      "metadata": {
        "colab": {
          "base_uri": "https://localhost:8080/"
        },
        "id": "C85_BtbC_rob",
        "outputId": "3abbe58f-655a-4576-c116-377841fba311"
      },
      "execution_count": null,
      "outputs": [
        {
          "output_type": "execute_result",
          "data": {
            "text/plain": [
              "False"
            ]
          },
          "metadata": {},
          "execution_count": 255
        }
      ]
    },
    {
      "cell_type": "markdown",
      "source": [
        "**9) Display an example of the round-off error in Python.**"
      ],
      "metadata": {
        "id": "jd35s2MEAkis"
      }
    },
    {
      "cell_type": "code",
      "source": [
        "# On a calculator, these two numbers would add to 6.095, however\n",
        "# this computation is false in Python due to the round-off error. \n",
        "\n",
        "3.7 + 2.395 == 6.095"
      ],
      "metadata": {
        "colab": {
          "base_uri": "https://localhost:8080/"
        },
        "id": "jqCNIGSbALuT",
        "outputId": "53ab836a-7c56-416b-b9c8-1efed9a439ed"
      },
      "execution_count": null,
      "outputs": [
        {
          "output_type": "execute_result",
          "data": {
            "text/plain": [
              "False"
            ]
          },
          "metadata": {},
          "execution_count": 258
        }
      ]
    },
    {
      "cell_type": "code",
      "source": [
        "# This is the actual calculation in Python:\n",
        "\n",
        "3.7 + 2.395"
      ],
      "metadata": {
        "colab": {
          "base_uri": "https://localhost:8080/"
        },
        "id": "PBQcvY4RBOWj",
        "outputId": "086a8be1-1d3c-4e41-a54b-eb2fd116de25"
      },
      "execution_count": null,
      "outputs": [
        {
          "output_type": "execute_result",
          "data": {
            "text/plain": [
              "6.095000000000001"
            ]
          },
          "metadata": {},
          "execution_count": 260
        }
      ]
    },
    {
      "cell_type": "code",
      "source": [
        "# Using the round() function, the previous equation becomes true!\n",
        "# Unfortunately, this is only a post-calculation fix.\n",
        "\n",
        "round(3.7 + 2.395, 5) == round(6.095, 5)"
      ],
      "metadata": {
        "colab": {
          "base_uri": "https://localhost:8080/"
        },
        "id": "Di97GGcoAu7H",
        "outputId": "795e36e1-1049-444b-dbdc-46d0c81161d1"
      },
      "execution_count": null,
      "outputs": [
        {
          "output_type": "execute_result",
          "data": {
            "text/plain": [
              "True"
            ]
          },
          "metadata": {},
          "execution_count": 259
        }
      ]
    },
    {
      "cell_type": "markdown",
      "source": [
        "**10) What are some of the advantages and disadvantages of using binary versus decimal?**"
      ],
      "metadata": {
        "id": "z0B3U9EossU1"
      }
    },
    {
      "cell_type": "markdown",
      "source": [
        "Decimal numbers are much more familiar than binary. Base 10 is easier to read and manipulate by humans, however binary is used much more in computer language. With only 2 digits, it takes up much less space and is easier for computers to process. There is also a sense of unabiguity with binary becuase there can only be 1 or 0."
      ],
      "metadata": {
        "id": "JKpfQkPGtuZ1"
      }
    },
    {
      "cell_type": "markdown",
      "source": [
        "**11) Write the number 13 (base 10) in base 1. How would you do addition and multiplication in base 1?**"
      ],
      "metadata": {
        "id": "sOlvtZfLszY7"
      }
    },
    {
      "cell_type": "markdown",
      "source": [
        "If Base 2 is made up of two digits, 0s & 1s, Base 1 would be made up of a single digit like a tally mark. 13 in Base 1 could be written as IIIIIIIIIIIII. 13 tallies would make up the number 13. To add values in Base 1, more tallies would be tacked on; for example 1 + 2 = 3 would be I + II = III. Multiplication would work the same way by adding a given iteration of tallies: 2 * 3 = 6 would be II + II + II = IIIIII."
      ],
      "metadata": {
        "id": "be5Q0J6ptx01"
      }
    },
    {
      "cell_type": "markdown",
      "source": [
        "**12) How high can you count on your fingers if you count in binary?**\n",
        "\n"
      ],
      "metadata": {
        "id": "1LgIT5lVs2px"
      }
    },
    {
      "cell_type": "markdown",
      "source": [
        "Each hand has 5 fingers that can represent bits. A finger down would be a 0 and a finger up would be a 1. If all 10 fingers were up, the number would read 1111111111. In Base 10, this number is 1,023. The conversion would be (1 • 2^9) + (1 • 2^8) + (1 • 2^7) + (1 • 2^6) + (1 • 2^5) + (1 • 2^4) + (1 • 2^3) + (1 • 2^2) + (1 • 2^1) + (1 • 2^0). After 1,023 you would have to use your toes or another method of counting to get a higher number."
      ],
      "metadata": {
        "id": "bmgOWLNUuIQj"
      }
    },
    {
      "cell_type": "markdown",
      "source": [
        "**13) Let b be a binary number having n digits. Can you think of ways to multiply and divide b by 2 that does not involve any arithmetic? Hint: Think about how you multiply and divide a decimal number by 10.**"
      ],
      "metadata": {
        "id": "PeLwzmyWs5VX"
      }
    },
    {
      "cell_type": "markdown",
      "source": [
        "In Base 10, a division of 10 would move the decimal to the left by one; for example 120.0 / 10 = 12.0. Using this same theory, dividing a binary number by 2 would shift the bits down one space. 12 / 2 = 6 --> 1100 / 10 = 110. Inversely, multiplication by 2 would shift the bits up one space: 4 * 2 = 8 --> 100 * 10 = 1000."
      ],
      "metadata": {
        "id": "eNHrLdipuHfY"
      }
    }
  ]
}