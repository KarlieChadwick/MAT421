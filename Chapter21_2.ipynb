{
  "nbformat": 4,
  "nbformat_minor": 0,
  "metadata": {
    "colab": {
      "provenance": [],
      "authorship_tag": "ABX9TyMq3NS4FpNLYahHOajJCbu4",
      "include_colab_link": true
    },
    "kernelspec": {
      "name": "python3",
      "display_name": "Python 3"
    },
    "language_info": {
      "name": "python"
    }
  },
  "cells": [
    {
      "cell_type": "markdown",
      "metadata": {
        "id": "view-in-github",
        "colab_type": "text"
      },
      "source": [
        "<a href=\"https://colab.research.google.com/github/KarlieChadwick/MAT421/blob/Chapter-9/Chapter21_2.ipynb\" target=\"_parent\"><img src=\"https://colab.research.google.com/assets/colab-badge.svg\" alt=\"Open In Colab\"/></a>"
      ]
    },
    {
      "cell_type": "markdown",
      "source": [
        "# Chapter 21 Section 2"
      ],
      "metadata": {
        "id": "3ePa1yOLeijB"
      }
    },
    {
      "cell_type": "markdown",
      "source": [
        "Karlie Chadwick"
      ],
      "metadata": {
        "id": "QckACoXxetFn"
      }
    },
    {
      "cell_type": "markdown",
      "source": [
        "**Chapter 21.4 - Simpson's Rule**"
      ],
      "metadata": {
        "id": "SVDRCk9ReuT4"
      }
    },
    {
      "cell_type": "markdown",
      "source": [
        "Simpson's Rule is used to approximate the area under a curve between two consecutive subintervals. A quadratic polynomial is fit through the interval points and the integral is taken. It is important to note that there needs to be an even number of intervals and an odd number of grid points. \n",
        "\n",
        "The equation for this rule is as follows;\n",
        "\n",
        "$∫_b^af(x)dx≈\\frac{h}{3}[f(x_0)+4(∑_{i=1,i_{odd}}^{n−1}f(x_i))+2(∑_{i=2,i_{even}}^{n−2}f(x_i))+f(x_n)]$"
      ],
      "metadata": {
        "id": "rB8kC6ScezQj"
      }
    },
    {
      "cell_type": "markdown",
      "source": [
        "*1) Use Simpson's Rule to approximate $f(x) = x^2$ between 0 and 10 with 11 evenly spaced grid points*"
      ],
      "metadata": {
        "id": "jgqqYrUYg0P4"
      }
    },
    {
      "cell_type": "code",
      "execution_count": 3,
      "metadata": {
        "colab": {
          "base_uri": "https://localhost:8080/"
        },
        "id": "tBwsEjdcehvk",
        "outputId": "4fd44de1-4d84-46a9-b6b1-5cbf596d6393"
      },
      "outputs": [
        {
          "output_type": "stream",
          "name": "stdout",
          "text": [
            "The approximation is 333.3333333333333\n"
          ]
        }
      ],
      "source": [
        "import numpy as np\n",
        "\n",
        "a = 0\n",
        "b = 10\n",
        "n = 11\n",
        "h = (b - a) / (n - 1)\n",
        "x = np.linspace(a, b, n)\n",
        "f = x**2\n",
        "\n",
        "I_simp = (h/3) * (f[0] + 2*sum(f[:n-2:2]) \\\n",
        "            + 4*sum(f[1:n-1:2]) + f[n-1])\n",
        "\n",
        "print('The approximation is ' + str(I_simp))"
      ]
    },
    {
      "cell_type": "markdown",
      "source": [
        "*2) Use Simpson's Rule to approximate $f(x) = 4x^2 + 5x -3$ between 0 and 6 with 13 evenly spaced grid points*"
      ],
      "metadata": {
        "id": "YBw7GyWGh2oL"
      }
    },
    {
      "cell_type": "code",
      "source": [
        "import numpy as np\n",
        "\n",
        "a = 0\n",
        "b = 6\n",
        "n = 13\n",
        "h = (b - a) / (n - 1)\n",
        "x = np.linspace(a, b, n)\n",
        "f = 4*x**2 + 5*x - 3\n",
        "\n",
        "I_simp = (h/3) * (f[0] + 2*sum(f[:n-2:2]) \\\n",
        "            + 4*sum(f[1:n-1:2]) + f[n-1])\n",
        "\n",
        "print('The approximation is ' + str(I_simp))"
      ],
      "metadata": {
        "colab": {
          "base_uri": "https://localhost:8080/"
        },
        "id": "DXu4a9hZh2L9",
        "outputId": "7a1b44ad-0e31-43d3-a4b6-16f93687edf3"
      },
      "execution_count": 7,
      "outputs": [
        {
          "output_type": "stream",
          "name": "stdout",
          "text": [
            "The approximation is 359.0\n"
          ]
        }
      ]
    },
    {
      "cell_type": "markdown",
      "source": [
        "*3) Use Simpson's Rule to approximate $f(x) = cos(x)$ between 0 and pi/2 with 11 evenly spaced grid points*"
      ],
      "metadata": {
        "id": "MBtjyje6iiVj"
      }
    },
    {
      "cell_type": "code",
      "source": [
        "import numpy as np\n",
        "\n",
        "a = 0\n",
        "b = np.pi\n",
        "n = 11\n",
        "h = (b - a) / (n - 1)\n",
        "x = np.linspace(a, b, n)\n",
        "f = np.cos(x)\n",
        "\n",
        "I_simp = (h/3) * (f[0] + 2*sum(f[:n-2:2]) \\\n",
        "            + 4*sum(f[1:n-1:2]) + f[n-1])\n",
        "\n",
        "print('The approximation is ' + str(I_simp))"
      ],
      "metadata": {
        "colab": {
          "base_uri": "https://localhost:8080/"
        },
        "id": "vA0hHbswihyI",
        "outputId": "4ee4aa81-cceb-449b-cddd-317a23870120"
      },
      "execution_count": 9,
      "outputs": [
        {
          "output_type": "stream",
          "name": "stdout",
          "text": [
            "The approximation is 0.20943951023931953\n"
          ]
        }
      ]
    },
    {
      "cell_type": "markdown",
      "source": [
        "**Chapter 21.5 - Computing Integrals in Python**"
      ],
      "metadata": {
        "id": "BJD2jb--jCVf"
      }
    },
    {
      "cell_type": "markdown",
      "source": [
        "There are functions within the package scipy.integrate that perform these approximations. The function trapz will use the trapezoid rule on a given integral. The function quad uses numerical differentiation to integrate the function."
      ],
      "metadata": {
        "id": "CaUO0WcEjI45"
      }
    },
    {
      "cell_type": "markdown",
      "source": [
        "*1) Use the trapz function to approximate the integral of $f(x) = 4x^2$ between 0 and 8 with 9 grid points*"
      ],
      "metadata": {
        "id": "YdtEkiYZjyNo"
      }
    },
    {
      "cell_type": "code",
      "source": [
        "import numpy as np\n",
        "from scipy.integrate import trapz\n",
        "\n",
        "a = 0\n",
        "b = 8\n",
        "n = 9\n",
        "h = (b - a) / (n - 1)\n",
        "x = np.linspace(a, b, n)\n",
        "f = 4*x**2\n",
        "\n",
        "I_trapz = trapz(f,x)\n",
        "\n",
        "print('The approximation is ' + str(I_trapz))"
      ],
      "metadata": {
        "colab": {
          "base_uri": "https://localhost:8080/"
        },
        "id": "aGiFWxGokBL2",
        "outputId": "3655aeb8-781a-4d69-abe8-2a8b67148e0a"
      },
      "execution_count": 12,
      "outputs": [
        {
          "output_type": "stream",
          "name": "stdout",
          "text": [
            "The approximation is 688.0\n"
          ]
        }
      ]
    },
    {
      "cell_type": "markdown",
      "source": [
        "*2) Use the trapz function to approximate the integral of $f(x) = cos(x)$ between 0 and pi/2 with 5 grid points*"
      ],
      "metadata": {
        "id": "9BYBTyANkPi6"
      }
    },
    {
      "cell_type": "code",
      "source": [
        "import numpy as np\n",
        "from scipy.integrate import trapz\n",
        "\n",
        "a = 0\n",
        "b = np.pi/2\n",
        "n = 5\n",
        "h = (b - a) / (n - 1)\n",
        "x = np.linspace(a, b, n)\n",
        "f = np.cos(x)\n",
        "\n",
        "I_trapz = trapz(f,x)\n",
        "\n",
        "print('The approximation is ' + str(I_trapz))"
      ],
      "metadata": {
        "colab": {
          "base_uri": "https://localhost:8080/"
        },
        "id": "Ui9ZyrtfkYbw",
        "outputId": "d3cdd106-a7bb-4f31-a426-347eec46439c"
      },
      "execution_count": 13,
      "outputs": [
        {
          "output_type": "stream",
          "name": "stdout",
          "text": [
            "The approximation is 0.9871158009727755\n"
          ]
        }
      ]
    },
    {
      "cell_type": "markdown",
      "source": [
        "*3) Use the quad function to approximate the integral of $f(x) = cos(x)$ between 0 and pi/2*"
      ],
      "metadata": {
        "id": "qsz9QS6jkzwO"
      }
    },
    {
      "cell_type": "code",
      "source": [
        "from scipy.integrate import quad \n",
        "\n",
        "I_quad, est_err_quad = \\\n",
        "          quad(np.cos, 0, np.pi/2)\n",
        "print('The approximation is ' + str(I_quad))"
      ],
      "metadata": {
        "colab": {
          "base_uri": "https://localhost:8080/"
        },
        "id": "7dsZlTfPk8QB",
        "outputId": "5a264d9f-5bd7-4fe1-e0ad-d5a9ea4cdba9"
      },
      "execution_count": 27,
      "outputs": [
        {
          "output_type": "stream",
          "name": "stdout",
          "text": [
            "The approximation is 0.9999999999999999\n"
          ]
        }
      ]
    }
  ]
}